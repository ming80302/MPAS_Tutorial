{
 "cells": [
  {
   "cell_type": "markdown",
   "id": "b1a594ef-652f-4303-b45f-7dd540c14ac4",
   "metadata": {},
   "source": [
    "#### Draw contour lines on an unstructured triangular grid.\n",
    "\n",
    "From Michael Duda:\n",
    "https://www2.mmm.ucar.edu/projects/mpas/tutorial/Howard2024/\n",
    "mesh_resolution.ncl\n",
    "\n",
    "\n",
    "Ming Ge Feb 2025"
   ]
  },
  {
   "cell_type": "code",
   "execution_count": 1,
   "id": "1a4808b8-4d83-46d6-b9ae-190d53ded51e",
   "metadata": {},
   "outputs": [],
   "source": [
    "import xarray as xr\n",
    "import numpy as np\n",
    "import cartopy.crs as ccrs\n",
    "import cartopy.feature as cfeature\n",
    "import matplotlib.tri as tri\n",
    "import matplotlib.pyplot as plt\n",
    "import matplotlib.ticker as ticker\n",
    "from matplotlib.colors import ListedColormap\n",
    "import sys\n",
    "import math "
   ]
  },
  {
   "cell_type": "code",
   "execution_count": 2,
   "id": "1006c2e6-4980-475a-8d31-e40862455463",
   "metadata": {},
   "outputs": [],
   "source": [
    "def func(x):\n",
    "    '''\n",
    "    format numbers for terse labels by removing plus signs and unnecessary zeros\n",
    "    '''\n",
    "    s = \"%.0g\" % x\n",
    "    if \"e\" in s:\n",
    "        tup = s.split('e')\n",
    "        significand = tup[0].rstrip('0').rstrip('.')\n",
    "        sign = tup[1][0].replace('+', '')\n",
    "        exponent = tup[1][1:].lstrip('0')\n",
    "        s = ('%se%s%s' % (significand, sign, exponent)).rstrip('e')    \n",
    "    return s"
   ]
  },
  {
   "cell_type": "code",
   "execution_count": 4,
   "id": "a01f9e38-7c8f-4597-bb5a-899430f7e987",
   "metadata": {},
   "outputs": [
    {
     "ename": "SyntaxError",
     "evalue": "'(' was never closed (4035568603.py, line 16)",
     "output_type": "error",
     "traceback": [
      "\u001b[0;36m  Cell \u001b[0;32mIn[4], line 16\u001b[0;36m\u001b[0m\n\u001b[0;31m    minSpacingKm = math.sqrt(min(uxda_area*2.0/math.sqrt(3.0))*6371.229\u001b[0m\n\u001b[0m                            ^\u001b[0m\n\u001b[0;31mSyntaxError\u001b[0m\u001b[0;31m:\u001b[0m '(' was never closed\n"
     ]
    }
   ],
   "source": [
    "dir_data = \"/glade/derecho/scratch/duda/mpas_tutorial/240-48km_variable/\"\n",
    "flnm_grid = dir_data + \"SouthAmerica.init.nc\"\n",
    "ds_i = xr.open_dataset(flnm_grid)\n",
    "\n",
    "# Convert to degrees from radians¶\n",
    "lonData = np.degrees(ds_i.lonCell)\n",
    "latData = np.degrees(ds_i.latCell)\n",
    "\n",
    "# convert lonData to range [-180, 180]\n",
    "lonData = ((lonData + 180) % 360) - 180\n",
    "\n",
    "triang = tri.Triangulation(lonData, latData)\n",
    "uxda_area = ds_i.areaCell.data\n",
    "uxda_den  = ds_i.meshDensity.data\n",
    "\n",
    "minSpacingKm = math.sqrt(min(uxda_area*2.0/math.sqrt(3.0))*6371.229\n",
    "fld = minSpacingKm /np.power(uxda_den,0.25)"
   ]
  },
  {
   "cell_type": "code",
   "execution_count": null,
   "id": "991b778b-29ad-4f59-8b93-6d8400bb9228",
   "metadata": {},
   "outputs": [],
   "source": [
    "# by setting the central meridian to 180°, there is a gap in polar region\n",
    "#fig, ax = plt.subplots(figsize=(10, 5), subplot_kw={'projection': ccrs.PlateCarree(central_longitude=180)}, dpi=300)\n",
    "fig, ax = plt.subplots(figsize=(10, 5), subplot_kw={'projection': ccrs.PlateCarree()}, dpi=300)\n",
    "\n",
    "# ax.set_global or plot_ax.set_extent\n",
    "#ax.set_extent([np.min(lon), np.max(lon), np.min(lat), np.max(lat)], crs=ccrs.PlateCarree())\n",
    "#ax.set_extent([-40, 40, -30, 30], crs=ccrs.PlateCarree())\n",
    "ax.set_global\n",
    "\n",
    "# Choose resolution of map features.\n",
    "# Note that these features are downloaded when plotting for the first time, and for the entire globe,\n",
    "#  so requesting high resolution can take several minutes.\n",
    "scale = '110m' # '50m' # '10m'\n",
    "\n",
    "ax.add_feature(cfeature.OCEAN.with_scale(scale))\n",
    "ax.add_feature(cfeature.STATES.with_scale(scale))\n",
    "ax.add_feature(cfeature.LAKES.with_scale(scale), alpha=0.5)\n",
    "ax.add_feature(cfeature.COASTLINE.with_scale(scale))\n",
    "\n",
    "mm = ax.tricontour(triang, fld,  \n",
    "                  transform=ccrs.PlateCarree(),\n",
    "                  #  [0.1e9, 0.3e9, 0.5e9, 0.7e9, 0.9e9],\n",
    "                   colors=['0.25', '0.25', '0.25', '0.25', '0.25'],\n",
    "                   linewidths=[0.5, 0.5, 0.5, 0.5, 0.5] )\n",
    "\n",
    "ax.clabel(mm, mm.levels, fmt=func)  \n",
    "# mask land\n",
    "ax.add_feature(cfeature.LAND, facecolor='cornsilk', zorder=1) \n",
    "\n",
    "plt.suptitle('Approximate mesh resolution (km)', fontweight=\"bold\", fontsize=14);\n"
   ]
  },
  {
   "cell_type": "markdown",
   "id": "e52b4000-f66a-4404-8bc1-86dc20499fc9",
   "metadata": {},
   "source": [
    "#### For Comparison: plot from original NCL"
   ]
  },
  {
   "cell_type": "code",
   "execution_count": null,
   "id": "7b79d30f-1744-47d0-9f2e-e630118f9759",
   "metadata": {},
   "outputs": [],
   "source": [
    "from IPython.display import Image\n",
    "Image(filename=('/glade/u/home/mingge/NCL_2_PYTHON/mesh_resolution.png'))"
   ]
  }
 ],
 "metadata": {
  "kernelspec": {
   "display_name": "Python [conda env:miniforge3-uxarray]",
   "language": "python",
   "name": "conda-env-miniforge3-uxarray-py"
  },
  "language_info": {
   "codemirror_mode": {
    "name": "ipython",
    "version": 3
   },
   "file_extension": ".py",
   "mimetype": "text/x-python",
   "name": "python",
   "nbconvert_exporter": "python",
   "pygments_lexer": "ipython3",
   "version": "3.12.8"
  }
 },
 "nbformat": 4,
 "nbformat_minor": 5
}
